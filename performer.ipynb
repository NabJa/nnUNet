{
 "cells": [
  {
   "cell_type": "markdown",
   "id": "bd8890e5-6ebe-47ce-b2ce-68f87170d3a1",
   "metadata": {},
   "source": [
    "# Basic Performer Operations\n",
    "See [GitHub](https://github.com/lucidrains/performer-pytorch)"
   ]
  },
  {
   "cell_type": "code",
   "execution_count": 1,
   "id": "d0a20484-7d56-4d74-a1b4-c4e2b3d3a6d6",
   "metadata": {},
   "outputs": [],
   "source": [
    "%load_ext autoreload"
   ]
  },
  {
   "cell_type": "code",
   "execution_count": 2,
   "id": "02c431dc-d03e-43e4-b946-77ba4e5d11e3",
   "metadata": {},
   "outputs": [],
   "source": [
    "%autoreload 2"
   ]
  },
  {
   "cell_type": "code",
   "execution_count": 3,
   "id": "12c3bd25-b296-4dcf-99c9-657307bcf985",
   "metadata": {},
   "outputs": [
    {
     "name": "stdout",
     "output_type": "stream",
     "text": [
      "\n",
      "\n",
      "Please cite the following paper when using nnUNet:\n",
      "\n",
      "Isensee, F., Jaeger, P.F., Kohl, S.A.A. et al. \"nnU-Net: a self-configuring method for deep learning-based biomedical image segmentation.\" Nat Methods (2020). https://doi.org/10.1038/s41592-020-01008-z\n",
      "\n",
      "\n",
      "If you have questions or suggestions, feel free to open an issue at https://github.com/MIC-DKFZ/nnUNet\n",
      "\n"
     ]
    }
   ],
   "source": [
    "import torch\n",
    "from torch import nn\n",
    "from performer_pytorch import Performer, SelfAttention, CrossAttention\n",
    "from nnunet.network_architecture.generic_UNet import Generic_UNet\n",
    "from nnunet.network_architecture.performer import SegPerformer, MHCA"
   ]
  },
  {
   "cell_type": "code",
   "execution_count": 4,
   "id": "fb6100fc-5716-458f-ac73-a7b7981bb839",
   "metadata": {},
   "outputs": [
    {
     "name": "stderr",
     "output_type": "stream",
     "text": [
      "/home/jabareen/miniconda3/envs/performer/lib/python3.8/site-packages/performer_pytorch/performer_pytorch.py:103: UserWarning: torch.qr is deprecated in favor of torch.linalg.qr and will be removed in a future PyTorch release.\n",
      "The boolean parameter 'some' has been replaced with a string parameter 'mode'.\n",
      "Q, R = torch.qr(A, some)\n",
      "should be replaced with\n",
      "Q, R = torch.linalg.qr(A, 'reduced' if some else 'complete') (Triggered internally at  /opt/conda/conda-bld/pytorch_1623448278899/work/aten/src/ATen/native/BatchLinearAlgebra.cpp:1940.)\n",
      "  q, r = torch.qr(unstructured_block.cpu(), some = True)\n"
     ]
    }
   ],
   "source": [
    "unet = SegPerformer(4, 32, 4, 5, conv_op=nn.Conv3d, norm_op=nn.BatchNorm3d, dropout_op=nn.Dropout3d, convolutional_upsampling=True)"
   ]
  },
  {
   "cell_type": "code",
   "execution_count": 5,
   "id": "6ed80dd0-eb3a-400f-a31d-18f386550dd6",
   "metadata": {},
   "outputs": [],
   "source": [
    "inp = torch.zeros(1, 4, 64, 64, 64).to(\"cuda\")\n",
    "unet = unet.to(\"cuda\")"
   ]
  },
  {
   "cell_type": "code",
   "execution_count": 6,
   "id": "32078ee6-5917-4007-8748-2c1642261854",
   "metadata": {},
   "outputs": [],
   "source": [
    "out = unet(inp)"
   ]
  },
  {
   "cell_type": "code",
   "execution_count": 7,
   "id": "929f207e-1640-466f-aa4b-3511cc486628",
   "metadata": {},
   "outputs": [
    {
     "ename": "AttributeError",
     "evalue": "'tuple' object has no attribute 'shape'",
     "output_type": "error",
     "traceback": [
      "\u001b[0;31m---------------------------------------------------------------------------\u001b[0m",
      "\u001b[0;31mAttributeError\u001b[0m                            Traceback (most recent call last)",
      "\u001b[0;32m<ipython-input-7-0c414b0cb4b4>\u001b[0m in \u001b[0;36m<module>\u001b[0;34m\u001b[0m\n\u001b[0;32m----> 1\u001b[0;31m \u001b[0mout\u001b[0m\u001b[0;34m.\u001b[0m\u001b[0mshape\u001b[0m\u001b[0;34m\u001b[0m\u001b[0;34m\u001b[0m\u001b[0m\n\u001b[0m",
      "\u001b[0;31mAttributeError\u001b[0m: 'tuple' object has no attribute 'shape'"
     ]
    }
   ],
   "source": [
    "out.shape"
   ]
  },
  {
   "cell_type": "code",
   "execution_count": null,
   "id": "0a68e239-26eb-4042-a560-3b27e9f4b1f4",
   "metadata": {},
   "outputs": [],
   "source": []
  }
 ],
 "metadata": {
  "kernelspec": {
   "display_name": "Python [conda env:performer]",
   "language": "python",
   "name": "conda-env-performer-py"
  },
  "language_info": {
   "codemirror_mode": {
    "name": "ipython",
    "version": 3
   },
   "file_extension": ".py",
   "mimetype": "text/x-python",
   "name": "python",
   "nbconvert_exporter": "python",
   "pygments_lexer": "ipython3",
   "version": "3.8.10"
  }
 },
 "nbformat": 4,
 "nbformat_minor": 5
}
