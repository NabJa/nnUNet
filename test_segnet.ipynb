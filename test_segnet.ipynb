{
 "cells": [
  {
   "cell_type": "code",
   "execution_count": 1,
   "id": "5f56fa02-e12d-43e0-94db-572a1d76efc5",
   "metadata": {},
   "outputs": [],
   "source": [
    "import torch\n",
    "from torch import nn\n",
    "import matplotlib.pyplot as plt"
   ]
  },
  {
   "cell_type": "code",
   "execution_count": 2,
   "id": "1cd713c5-d4d9-416d-92f4-e91362281248",
   "metadata": {},
   "outputs": [
    {
     "name": "stdout",
     "output_type": "stream",
     "text": [
      "\n",
      "\n",
      "Please cite the following paper when using nnUNet:\n",
      "\n",
      "Isensee, F., Jaeger, P.F., Kohl, S.A.A. et al. \"nnU-Net: a self-configuring method for deep learning-based biomedical image segmentation.\" Nat Methods (2020). https://doi.org/10.1038/s41592-020-01008-z\n",
      "\n",
      "\n",
      "If you have questions or suggestions, feel free to open an issue at https://github.com/MIC-DKFZ/nnUNet\n",
      "\n"
     ]
    }
   ],
   "source": [
    "from nnunet.network_architecture.segnet import SmallSegNet, SegNet\n",
    "from nnunet.network_architecture.generic_UNet import Generic_UNet"
   ]
  },
  {
   "cell_type": "code",
   "execution_count": 3,
   "id": "fef5a892-bc49-4845-8097-e6ecb219324f",
   "metadata": {},
   "outputs": [],
   "source": [
    "smallsegnet = SmallSegNet(4, 32, 4, 5)\n",
    "segnet = SegNet(4, 32, 4, 5)\n",
    "unet = Generic_UNet(4, 32, 4, 5, convolutional_upsampling=True, conv_op=nn.Conv3d, norm_op = nn.InstanceNorm3d, dropout_op = nn.Dropout3d )"
   ]
  },
  {
   "cell_type": "code",
   "execution_count": 4,
   "id": "3c205364-115f-4ada-b761-e839818ebd77",
   "metadata": {},
   "outputs": [],
   "source": [
    "def get_n_params(model):\n",
    "    pp=0\n",
    "    for p in list(model.parameters()):\n",
    "        nn=1\n",
    "        for s in list(p.size()):\n",
    "            nn = nn*s\n",
    "        pp += nn\n",
    "    return pp"
   ]
  },
  {
   "cell_type": "code",
   "execution_count": 11,
   "id": "d1e06fbc-f933-4530-a385-f6c9afbc6755",
   "metadata": {},
   "outputs": [
    {
     "data": {
      "image/png": "[encoded data removed]",
      "text/plain": [
       "<Figure size 432x288 with 1 Axes>"
      ]
     },
     "metadata": {
      "needs_background": "light"
     },
     "output_type": "display_data"
    }
   ],
   "source": [
    "plt.ylabel(\"Number of parameters\")\n",
    "plt.bar([\"UNet\", \"SegNet\", \"MiniSegNet\"],\n",
    "        [get_n_params(unet), get_n_params(segnet), get_n_params(smallsegnet)])\n",
    "plt.grid(axis=\"y\")"
   ]
  },
  {
   "cell_type": "code",
   "execution_count": null,
   "id": "92873621-9bce-46f8-8829-2c97b6396352",
   "metadata": {},
   "outputs": [],
   "source": []
  }
 ],
 "metadata": {
  "kernelspec": {
   "display_name": "Python [conda env:brats21]",
   "language": "python",
   "name": "conda-env-brats21-py"
  },
  "language_info": {
   "codemirror_mode": {
    "name": "ipython",
    "version": 3
   },
   "file_extension": ".py",
   "mimetype": "text/x-python",
   "name": "python",
   "nbconvert_exporter": "python",
   "pygments_lexer": "ipython3",
   "version": "3.8.10"
  }
 },
 "nbformat": 4,
 "nbformat_minor": 5
}
